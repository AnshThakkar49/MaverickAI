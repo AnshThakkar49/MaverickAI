{
 "cells": [
  {
   "cell_type": "code",
   "execution_count": 33,
   "id": "55c318fc-16e2-4fc2-bf5e-d351228aa10a",
   "metadata": {},
   "outputs": [
    {
     "name": "stdout",
     "output_type": "stream",
     "text": [
      "     Disease            S1             S2             S3  \\\n",
      "0  Diabetes        fatigue    weight_loss   restlessness   \n",
      "1  Diabetes        fatigue    weight_loss   restlessness   \n",
      "2  Diabetes    weight_loss   restlessness       lethargy   \n",
      "3  Diabetes        fatigue   restlessness       lethargy   \n",
      "4  Diabetes        fatigue    weight_loss       lethargy   \n",
      "\n",
      "                       S4                             S5  Unnamed: 6  \\\n",
      "0                lethargy          irregular_sugar_level         NaN   \n",
      "1                lethargy          irregular_sugar_level         NaN   \n",
      "2   irregular_sugar_level   blurred_and_distorted_vision         NaN   \n",
      "3   irregular_sugar_level   blurred_and_distorted_vision         NaN   \n",
      "4   irregular_sugar_level   blurred_and_distorted_vision         NaN   \n",
      "\n",
      "   Unnamed: 7  Unnamed: 8  Unnamed: 9  Unnamed: 10 Unnamed: 11 Unnamed: 12  \\\n",
      "0         NaN         NaN         NaN          NaN         NaN         NaN   \n",
      "1         NaN         NaN         NaN          NaN         NaN         NaN   \n",
      "2         NaN         NaN         NaN          NaN         NaN         NaN   \n",
      "3         NaN         NaN         NaN          NaN         NaN         NaN   \n",
      "4         NaN         NaN         NaN          NaN         NaN         NaN   \n",
      "\n",
      "  Unnamed: 13 Unnamed: 14 Unnamed: 15 Unnamed: 16 Unnamed: 17  \n",
      "0         NaN         NaN         NaN         NaN         NaN  \n",
      "1         NaN         NaN         NaN         NaN         NaN  \n",
      "2         NaN         NaN         NaN         NaN         NaN  \n",
      "3         NaN         NaN         NaN         NaN         NaN  \n",
      "4         NaN         NaN         NaN         NaN         NaN  \n",
      "<class 'pandas.core.frame.DataFrame'>\n",
      "RangeIndex: 60 entries, 0 to 59\n",
      "Data columns (total 18 columns):\n",
      " #   Column       Non-Null Count  Dtype  \n",
      "---  ------       --------------  -----  \n",
      " 0   Disease      60 non-null     object \n",
      " 1   S1           60 non-null     object \n",
      " 2   S2           60 non-null     object \n",
      " 3   S3           60 non-null     object \n",
      " 4   S4           60 non-null     object \n",
      " 5   S5           60 non-null     object \n",
      " 6   Unnamed: 6   0 non-null      float64\n",
      " 7   Unnamed: 7   0 non-null      float64\n",
      " 8   Unnamed: 8   0 non-null      float64\n",
      " 9   Unnamed: 9   0 non-null      float64\n",
      " 10  Unnamed: 10  0 non-null      float64\n",
      " 11  Unnamed: 11  21 non-null     object \n",
      " 12  Unnamed: 12  20 non-null     object \n",
      " 13  Unnamed: 13  20 non-null     object \n",
      " 14  Unnamed: 14  11 non-null     object \n",
      " 15  Unnamed: 15  10 non-null     object \n",
      " 16  Unnamed: 16  10 non-null     object \n",
      " 17  Unnamed: 17  2 non-null      object \n",
      "dtypes: float64(5), object(13)\n",
      "memory usage: 8.6+ KB\n",
      "None\n",
      "Disease         0\n",
      "S1              0\n",
      "S2              0\n",
      "S3              0\n",
      "S4              0\n",
      "S5              0\n",
      "Unnamed: 6     60\n",
      "Unnamed: 7     60\n",
      "Unnamed: 8     60\n",
      "Unnamed: 9     60\n",
      "Unnamed: 10    60\n",
      "Unnamed: 11    39\n",
      "Unnamed: 12    40\n",
      "Unnamed: 13    40\n",
      "Unnamed: 14    49\n",
      "Unnamed: 15    50\n",
      "Unnamed: 16    50\n",
      "Unnamed: 17    58\n",
      "dtype: int64\n",
      "Non-numeric columns: ['Disease', 'S1', 'S2', 'S3', 'S4', 'S5', 'Unnamed: 11', 'Unnamed: 12', 'Unnamed: 13', 'Unnamed: 14', 'Unnamed: 15', 'Unnamed: 16', 'Unnamed: 17']\n",
      "2    10\n",
      "1     8\n",
      "5     7\n",
      "0     7\n",
      "3     6\n",
      "4     6\n",
      "Name: Disease, dtype: int64\n",
      "Missing features: []\n"
     ]
    },
    {
     "name": "stderr",
     "output_type": "stream",
     "text": [
      "C:\\Users\\DHAVAL\\AppData\\Local\\Temp\\ipykernel_8704\\1995577265.py:35: SettingWithCopyWarning: \n",
      "A value is trying to be set on a copy of a slice from a DataFrame.\n",
      "Try using .loc[row_indexer,col_indexer] = value instead\n",
      "\n",
      "See the caveats in the documentation: https://pandas.pydata.org/pandas-docs/stable/user_guide/indexing.html#returning-a-view-versus-a-copy\n",
      "  data[column] = label_encoders[column].fit_transform(data[column])\n",
      "C:\\Users\\DHAVAL\\AppData\\Local\\Temp\\ipykernel_8704\\1995577265.py:38: SettingWithCopyWarning: \n",
      "A value is trying to be set on a copy of a slice from a DataFrame.\n",
      "Try using .loc[row_indexer,col_indexer] = value instead\n",
      "\n",
      "See the caveats in the documentation: https://pandas.pydata.org/pandas-docs/stable/user_guide/indexing.html#returning-a-view-versus-a-copy\n",
      "  data['Disease'] = label_encoders['Disease'].fit_transform(data['Disease'])\n"
     ]
    },
    {
     "ename": "ValueError",
     "evalue": "test_size=0.0 should be either positive and smaller than the number of samples 44 or a float in the (0, 1) range",
     "output_type": "error",
     "traceback": [
      "\u001b[1;31m---------------------------------------------------------------------------\u001b[0m",
      "\u001b[1;31mValueError\u001b[0m                                Traceback (most recent call last)",
      "\u001b[1;32m~\\AppData\\Local\\Temp\\ipykernel_8704\\1995577265.py\u001b[0m in \u001b[0;36m<module>\u001b[1;34m\u001b[0m\n\u001b[0;32m     56\u001b[0m \u001b[1;33m\u001b[0m\u001b[0m\n\u001b[0;32m     57\u001b[0m \u001b[1;31m# Step 8: Split the data using stratified sampling\u001b[0m\u001b[1;33m\u001b[0m\u001b[1;33m\u001b[0m\u001b[0m\n\u001b[1;32m---> 58\u001b[1;33m \u001b[0mX_train\u001b[0m\u001b[1;33m,\u001b[0m \u001b[0mX_test\u001b[0m\u001b[1;33m,\u001b[0m \u001b[0my_train\u001b[0m\u001b[1;33m,\u001b[0m \u001b[0my_test\u001b[0m \u001b[1;33m=\u001b[0m \u001b[0mtrain_test_split\u001b[0m\u001b[1;33m(\u001b[0m\u001b[0mX\u001b[0m\u001b[1;33m,\u001b[0m \u001b[0my\u001b[0m\u001b[1;33m,\u001b[0m \u001b[0mtest_size\u001b[0m\u001b[1;33m=\u001b[0m\u001b[1;36m0.\u001b[0m\u001b[1;33m,\u001b[0m \u001b[0mstratify\u001b[0m\u001b[1;33m=\u001b[0m\u001b[0my\u001b[0m\u001b[1;33m,\u001b[0m \u001b[0mrandom_state\u001b[0m\u001b[1;33m=\u001b[0m\u001b[1;36m42\u001b[0m\u001b[1;33m)\u001b[0m\u001b[1;33m\u001b[0m\u001b[1;33m\u001b[0m\u001b[0m\n\u001b[0m\u001b[0;32m     59\u001b[0m \u001b[1;33m\u001b[0m\u001b[0m\n\u001b[0;32m     60\u001b[0m \u001b[1;31m# Verify class distribution in training and test sets\u001b[0m\u001b[1;33m\u001b[0m\u001b[1;33m\u001b[0m\u001b[0m\n",
      "\u001b[1;32m~\\anaconda3\\lib\\site-packages\\sklearn\\model_selection\\_split.py\u001b[0m in \u001b[0;36mtrain_test_split\u001b[1;34m(test_size, train_size, random_state, shuffle, stratify, *arrays)\u001b[0m\n\u001b[0;32m   2418\u001b[0m \u001b[1;33m\u001b[0m\u001b[0m\n\u001b[0;32m   2419\u001b[0m     \u001b[0mn_samples\u001b[0m \u001b[1;33m=\u001b[0m \u001b[0m_num_samples\u001b[0m\u001b[1;33m(\u001b[0m\u001b[0marrays\u001b[0m\u001b[1;33m[\u001b[0m\u001b[1;36m0\u001b[0m\u001b[1;33m]\u001b[0m\u001b[1;33m)\u001b[0m\u001b[1;33m\u001b[0m\u001b[1;33m\u001b[0m\u001b[0m\n\u001b[1;32m-> 2420\u001b[1;33m     n_train, n_test = _validate_shuffle_split(\n\u001b[0m\u001b[0;32m   2421\u001b[0m         \u001b[0mn_samples\u001b[0m\u001b[1;33m,\u001b[0m \u001b[0mtest_size\u001b[0m\u001b[1;33m,\u001b[0m \u001b[0mtrain_size\u001b[0m\u001b[1;33m,\u001b[0m \u001b[0mdefault_test_size\u001b[0m\u001b[1;33m=\u001b[0m\u001b[1;36m0.25\u001b[0m\u001b[1;33m\u001b[0m\u001b[1;33m\u001b[0m\u001b[0m\n\u001b[0;32m   2422\u001b[0m     )\n",
      "\u001b[1;32m~\\anaconda3\\lib\\site-packages\\sklearn\\model_selection\\_split.py\u001b[0m in \u001b[0;36m_validate_shuffle_split\u001b[1;34m(n_samples, test_size, train_size, default_test_size)\u001b[0m\n\u001b[0;32m   2041\u001b[0m         \u001b[1;32mand\u001b[0m \u001b[1;33m(\u001b[0m\u001b[0mtest_size\u001b[0m \u001b[1;33m<=\u001b[0m \u001b[1;36m0\u001b[0m \u001b[1;32mor\u001b[0m \u001b[0mtest_size\u001b[0m \u001b[1;33m>=\u001b[0m \u001b[1;36m1\u001b[0m\u001b[1;33m)\u001b[0m\u001b[1;33m\u001b[0m\u001b[1;33m\u001b[0m\u001b[0m\n\u001b[0;32m   2042\u001b[0m     ):\n\u001b[1;32m-> 2043\u001b[1;33m         raise ValueError(\n\u001b[0m\u001b[0;32m   2044\u001b[0m             \u001b[1;34m\"test_size={0} should be either positive and smaller\"\u001b[0m\u001b[1;33m\u001b[0m\u001b[1;33m\u001b[0m\u001b[0m\n\u001b[0;32m   2045\u001b[0m             \u001b[1;34m\" than the number of samples {1} or a float in the \"\u001b[0m\u001b[1;33m\u001b[0m\u001b[1;33m\u001b[0m\u001b[0m\n",
      "\u001b[1;31mValueError\u001b[0m: test_size=0.0 should be either positive and smaller than the number of samples 44 or a float in the (0, 1) range"
     ]
    }
   ],
   "source": [
    "import pandas as pd\n",
    "from sklearn.preprocessing import LabelEncoder, StandardScaler\n",
    "from sklearn.model_selection import train_test_split\n",
    "from sklearn.linear_model import LogisticRegression\n",
    "from sklearn.metrics import accuracy_score, confusion_matrix, classification_report\n",
    "import joblib\n",
    "\n",
    "# Step 1: Load the CSV file\n",
    "data1 = pd.read_csv('BIOBOT_DATASET (1).csv')\n",
    "\n",
    "# Step 2: Inspect the data\n",
    "print(data1.head())\n",
    "print(data1.info())\n",
    "print(data1.isnull().sum())\n",
    "\n",
    "# Step 3: Handle missing values and remove duplicates\n",
    "# Drop columns with any missing values\n",
    "data = data1.dropna(axis=1)\n",
    "\n",
    "# Drop rows with missing values\n",
    "data = data1.dropna()\n",
    "\n",
    "# Remove duplicate rows\n",
    "data = data1.drop_duplicates()\n",
    "\n",
    "# Step 4: Convert non-numeric columns to numeric\n",
    "# Identify non-numeric columns\n",
    "non_numeric_columns = data.select_dtypes(include=['object']).columns.tolist()\n",
    "print(f\"Non-numeric columns: {non_numeric_columns}\")\n",
    "\n",
    "# Convert categorical columns to numeric using LabelEncoder\n",
    "label_encoders = {}\n",
    "for column in non_numeric_columns:\n",
    "    label_encoders[column] = LabelEncoder()\n",
    "    data[column] = label_encoders[column].fit_transform(data[column])\n",
    "\n",
    "# Step 5: Encode the target variable\n",
    "data['Disease'] = label_encoders['Disease'].fit_transform(data['Disease'])\n",
    "\n",
    "# Step 6: Check class distribution\n",
    "print(data['Disease'].value_counts())\n",
    "\n",
    "# Step 7: Feature selection\n",
    "# Check if the specified feature columns exist in the data\n",
    "feature_columns = [ 'S1','S2','S3','S4','S5']\n",
    "\n",
    "missing_features = [col for col in feature_columns if col not in data.columns]\n",
    "print(f\"Missing features: {missing_features}\")\n",
    "\n",
    "# Select only the existing features\n",
    "feature_columns = [col for col in feature_columns if col in data.columns]\n",
    "target_column = 'Disease'\n",
    "\n",
    "X = data[feature_columns]\n",
    "y = data[target_column]\n",
    "\n",
    "# Step 8: Split the data using stratified sampling\n",
    "X_train, X_test, y_train, y_test = train_test_split(X, y, test_size=0., stratify=y, random_state=42)\n",
    "\n",
    "# Verify class distribution in training and test sets\n",
    "print(\"Training set class distribution:\")\n",
    "print(y_train.value_counts())\n",
    "print(\"Test set class distribution:\")\n",
    "print(y_test.value_counts())\n",
    "\n",
    "# Step 9: Normalize or scale features\n",
    "scaler = StandardScaler()\n",
    "X_train_scaled = scaler.fit_transform(X_train)\n",
    "X_test_scaled = scaler.transform(X_test)\n",
    "\n",
    "# Step 10: Train the logistic regression model\n",
    "model = LogisticRegression()\n",
    "model.fit(X_train_scaled, y_train)\n",
    "\n",
    "# Step 11: Evaluate the model\n",
    "y_pred = model.predict(X_test_scaled)\n",
    "accuracy = accuracy_score(y_test, y_pred)\n",
    "conf_matrix = confusion_matrix(y_test, y_pred)\n",
    "class_report = classification_report(y_test, y_pred)\n",
    "\n",
    "print(f'Accuracy: {accuracy}')\n",
    "print(f'Confusion Matrix:\\n{conf_matrix}')\n",
    "print(f'Classification Report:\\n{class_report}')\n",
    "\n",
    "# Step 12: Save the model\n",
    "joblib.dump(model, 'logistic_regression_model.pkl')\n"
   ]
  },
  {
   "cell_type": "code",
   "execution_count": 34,
   "id": "16cf9d20-fe89-44ca-8ebd-3cec7186dc28",
   "metadata": {},
   "outputs": [
    {
     "name": "stdout",
     "output_type": "stream",
     "text": [
      "0.40262348671259207\n"
     ]
    }
   ],
   "source": [
    "from sklearn.ensemble import GradientBoostingRegressor\n",
    "from sklearn.model_selection import train_test_split\n",
    "from sklearn.metrics import mean_squared_error\n",
    "import matplotlib.pyplot as plt\n",
    "\n",
    "\n",
    "\n",
    "gb_regressor= GradientBoostingRegressor(n_estimators=100, learning_rate=0.2, random_state=42)\n",
    "\n",
    "gb_regressor.fit(X_train,y_train)\n",
    "\n",
    "y_pred=gb_regressor.predict(X_test)\n",
    "\n",
    "mse= mean_squared_error(y_test,y_pred)\n",
    "print(mse)"
   ]
  },
  {
   "cell_type": "code",
   "execution_count": 35,
   "id": "cc6d4016-fa73-43ae-ac96-3ecb0dc46684",
   "metadata": {},
   "outputs": [
    {
     "data": {
      "image/png": "[encoded data removed]",
      "text/plain": [
       "<Figure size 800x600 with 1 Axes>"
      ]
     },
     "metadata": {},
     "output_type": "display_data"
    }
   ],
   "source": [
    "plt.figure(figsize=(8,6))\n",
    "plt.scatter(y_test, y_pred,color='blue',marker='o', label='Actual vs predicted')\n",
    "plt.plot([min(y_test), max(y_test)],[min(y_test), max(y_test)],color='red', linestyle='--',lw=2, label='perfect prediction')\n",
    "plt.xlabel('actual values')\n",
    "plt.ylabel('predicted  values')\n",
    "plt.title('Actual vs predicted gbr')\n",
    "plt.legend()\n",
    "plt.grid(True)\n",
    "plt.show()"
   ]
  },
  {
   "cell_type": "code",
   "execution_count": 37,
   "id": "b4c63be6-a8a0-48b2-ac02-64e2ba47ceca",
   "metadata": {},
   "outputs": [
    {
     "name": "stdout",
     "output_type": "stream",
     "text": [
      "accuracy score: 0.1111111111111111\n"
     ]
    },
    {
     "name": "stderr",
     "output_type": "stream",
     "text": [
      "C:\\Users\\DHAVAL\\anaconda3\\lib\\site-packages\\sklearn\\base.py:443: UserWarning: X has feature names, but LogisticRegression was fitted without feature names\n",
      "  warnings.warn(\n",
      "C:\\Users\\DHAVAL\\anaconda3\\lib\\site-packages\\sklearn\\base.py:443: UserWarning: X has feature names, but LogisticRegression was fitted without feature names\n",
      "  warnings.warn(\n"
     ]
    }
   ],
   "source": [
    "# Assuming y_test contains the true labels\n",
    "# Generate binary predictions using the model\n",
    "y_pred = model.predict(X_test)\n",
    "\n",
    "# Calculate and print the accuracy score\n",
    "print(\"accuracy score:\", model.score(X_test, y_test))\n"
   ]
  },
  {
   "cell_type": "code",
   "execution_count": null,
   "id": "0f741b7b-7691-412e-a03c-7e3ec447bb5d",
   "metadata": {},
   "outputs": [],
   "source": []
  },
  {
   "cell_type": "code",
   "execution_count": null,
   "id": "cd23180e-109c-40a3-a070-de74589d882c",
   "metadata": {},
   "outputs": [],
   "source": []
  }
 ],
 "metadata": {
  "kernelspec": {
   "display_name": "Python 3 (ipykernel)",
   "language": "python",
   "name": "python3"
  },
  "language_info": {
   "codemirror_mode": {
    "name": "ipython",
    "version": 3
   },
   "file_extension": ".py",
   "mimetype": "text/x-python",
   "name": "python",
   "nbconvert_exporter": "python",
   "pygments_lexer": "ipython3",
   "version": "3.9.13"
  }
 },
 "nbformat": 4,
 "nbformat_minor": 5
}
